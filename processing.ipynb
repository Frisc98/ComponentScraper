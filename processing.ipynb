{
 "cells": [
  {
   "cell_type": "code",
   "execution_count": 4,
   "metadata": {},
   "outputs": [
    {
     "name": "stdout",
     "output_type": "stream",
     "text": [
      "           Part Number                Price                 Package   Qty\n",
      "0      WT8043-WELTREND  14,73 € (110,98 kn)                      IC     2\n",
      "1         WS82C55AG-5P     0,00 € (0,00 kn)            IC=UPD8255C2     0\n",
      "2     W29C040T-WINBOND   10,62 € (80,02 kn)           IC-SMD 32 PIN    10\n",
      "3          W29C040T-90     0,00 € (0,00 kn)  IC=AT29C040A-12TI=10TI     0\n",
      "4         W28Q32BVSSIG    3,28 € (24,71 kn)                      IC    20\n",
      "...                ...                  ...                     ...   ...\n",
      "8305             1431T     0,00 € (0,00 kn)              IC=LM317LZ     0\n",
      "8306            1207AP     0,00 € (0,00 kn)                      IC     0\n",
      "8307      1207A-IC-SMD     0,00 € (0,00 kn)                     NaN     0\n",
      "8308          1014AP06     0,00 € (0,00 kn)                      IC     0\n",
      "8309         1.5KE240A     0,00 € (0,00 kn)                     NaN     0\n",
      "\n",
      "[8310 rows x 4 columns]\n"
     ]
    }
   ],
   "source": [
    "import pandas as pd\n",
    "\n",
    "df = pd.read_csv('tevetronIC.csv')\n",
    "print(df)"
   ]
  },
  {
   "cell_type": "code",
   "execution_count": null,
   "metadata": {},
   "outputs": [],
   "source": []
  },
  {
   "cell_type": "code",
   "execution_count": null,
   "metadata": {},
   "outputs": [],
   "source": []
  }
 ],
 "metadata": {
  "kernelspec": {
   "display_name": "Python 3",
   "language": "python",
   "name": "python3"
  },
  "language_info": {
   "codemirror_mode": {
    "name": "ipython",
    "version": 3
   },
   "file_extension": ".py",
   "mimetype": "text/x-python",
   "name": "python",
   "nbconvert_exporter": "python",
   "pygments_lexer": "ipython3",
   "version": "3.10.5"
  },
  "orig_nbformat": 4
 },
 "nbformat": 4,
 "nbformat_minor": 2
}
